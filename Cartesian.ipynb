{
 "cells": [
  {
   "cell_type": "markdown",
   "id": "bb892e70",
   "metadata": {},
   "source": [
    "# Cartesian Submission"
   ]
  },
  {
   "cell_type": "markdown",
   "id": "872cef42",
   "metadata": {},
   "source": [
    "## Problem Statement 1:\n",
    "The program takes input a short abstract and outputs the following\n",
    "1) prints each word in reverse.  \n",
    "2) prints Top 2 occurring words in sorted order. The words that have occurred most of the time.\n",
    "### Programming Solution:"
   ]
  },
  {
   "cell_type": "code",
   "execution_count": 23,
   "id": "07d31534",
   "metadata": {},
   "outputs": [
    {
     "name": "stdout",
     "output_type": "stream",
     "text": [
      "europe united a of era this in Internet the for vision positive a advance to partners declaration among commitment political a represents declaration This "
     ]
    }
   ],
   "source": [
    "# Program for reverse word\n",
    "x=\"This declaration represents a political commitment among declaration partners to advance a positive vision for the Internet in this era of a united europe\"\n",
    "x=x[::-1]\n",
    "for x in x.split(\" \"):\n",
    "    print(x[::-1],end=\" \")"
   ]
  },
  {
   "cell_type": "raw",
   "id": "ea19c890",
   "metadata": {},
   "source": []
  },
  {
   "cell_type": "code",
   "execution_count": 28,
   "id": "df31bb6d",
   "metadata": {},
   "outputs": [
    {
     "name": "stdout",
     "output_type": "stream",
     "text": [
      "a : 3 times\n",
      "declaration : 2 times\n"
     ]
    }
   ],
   "source": [
    "# Program for counting and sorting words\n",
    "from collections import Counter\n",
    "a=\"This declaration represents a political commitment among declaration partners to advance a positive vision for the Internet in this era of a united europe\"\n",
    "c=a[:-1].split(\" \")\n",
    "counts = Counter(c)\n",
    "counts={k: v for k, v in sorted(counts.items(), key=lambda item: item[1])}\n",
    "for i in range(1,3):\n",
    "    print(list(counts.keys())[-i],\":\",list(counts.values())[-i],\"times\")"
   ]
  },
  {
   "cell_type": "raw",
   "id": "ac25d9d1",
   "metadata": {},
   "source": []
  },
  {
   "cell_type": "markdown",
   "id": "8d71d644",
   "metadata": {},
   "source": [
    "# Problem Statement 2:\n",
    "### ASSIGNMENT-01SQL:\n",
    "Please refer to two tables of Appendix A – Purchase History and Product Catalogue. Purchase History contains all purchases done for Grocery Store. Product Catalogue contains all product and its category. \n",
    "\n",
    "Develop a SQL query that will find out two Products for each product category that are most popular in last 30 days. Popularity is based on maximum quantity sold in a particular category.\n",
    "### SQL Solution:"
   ]
  },
  {
   "cell_type": "raw",
   "id": "6b06ade3",
   "metadata": {},
   "source": [
    "SELECT b.Cat_Id, b.Product_Id FROM Purchase History a, Product Catalogue b \n",
    "ON a.Product_Id SORTBY b.Cat_Id;"
   ]
  },
  {
   "cell_type": "markdown",
   "id": "c0b3b30a",
   "metadata": {},
   "source": [
    "### ASSIGNMENT-02SQL:\n",
    "There is a Customer Table having a single column with list of customer id. There is a Voucher table having a single column with list of voucher ids.\n",
    "\n",
    "Develop a query that will assign one voucher to one customer and vice versa. Two customers will not get same voucher. Two Voucher will not be assigned to a single customer.\n",
    "### SQL Solution:"
   ]
  },
  {
   "cell_type": "raw",
   "id": "c1eaa419",
   "metadata": {},
   "source": [
    "SELECT a.Customer_Id AS Customer_Key, b.Voucher_Id AS Gift Voucher Key,\n",
    "FROM Customer a LEFT JOIN Voucher b;"
   ]
  },
  {
   "cell_type": "markdown",
   "id": "71ca5fbc",
   "metadata": {},
   "source": [
    "### Most of the Questions of the assignment was completed successfully, expect the first one of sql."
   ]
  }
 ],
 "metadata": {
  "kernelspec": {
   "display_name": "Python 3 (ipykernel)",
   "language": "python",
   "name": "python3"
  },
  "language_info": {
   "codemirror_mode": {
    "name": "ipython",
    "version": 3
   },
   "file_extension": ".py",
   "mimetype": "text/x-python",
   "name": "python",
   "nbconvert_exporter": "python",
   "pygments_lexer": "ipython3",
   "version": "3.9.7"
  }
 },
 "nbformat": 4,
 "nbformat_minor": 5
}
